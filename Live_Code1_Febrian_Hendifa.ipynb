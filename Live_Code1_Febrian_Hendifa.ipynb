{
  "nbformat": 4,
  "nbformat_minor": 0,
  "metadata": {
    "colab": {
      "provenance": [],
      "toc_visible": true,
      "authorship_tag": "ABX9TyPwb+xaZLyPiYyfCBJWpLvY",
      "include_colab_link": true
    },
    "kernelspec": {
      "name": "python3",
      "display_name": "Python 3"
    },
    "language_info": {
      "name": "python"
    }
  },
  "cells": [
    {
      "cell_type": "markdown",
      "metadata": {
        "id": "view-in-github",
        "colab_type": "text"
      },
      "source": [
        "<a href=\"https://colab.research.google.com/github/fhendifa/Hacktive8_Latihan/blob/master/Live_Code1_Febrian_Hendifa.ipynb\" target=\"_parent\"><img src=\"https://colab.research.google.com/assets/colab-badge.svg\" alt=\"Open In Colab\"/></a>"
      ]
    },
    {
      "cell_type": "markdown",
      "source": [
        "# Perkenalan"
      ],
      "metadata": {
        "id": "9zkDs0DD8DBP"
      }
    },
    {
      "cell_type": "markdown",
      "source": [
        "Nama Febrian Hendifa"
      ],
      "metadata": {
        "id": "yIdk3ox08VG_"
      }
    },
    {
      "cell_type": "markdown",
      "source": [
        "# Import"
      ],
      "metadata": {
        "id": "lNehKhnWFcOX"
      }
    },
    {
      "cell_type": "code",
      "source": [
        "import pandas as pd\n"
      ],
      "metadata": {
        "id": "j6VNPEKn8Xlv"
      },
      "execution_count": 1,
      "outputs": []
    },
    {
      "cell_type": "markdown",
      "source": [
        "# Data Loading"
      ],
      "metadata": {
        "id": "EQ0myDs88cfP"
      }
    },
    {
      "cell_type": "code",
      "source": [
        "df = pd.read_csv('NMC1-9.csv')"
      ],
      "metadata": {
        "id": "fTA9pRwu8eP4"
      },
      "execution_count": 2,
      "outputs": []
    },
    {
      "cell_type": "code",
      "source": [
        "len(df)"
      ],
      "metadata": {
        "colab": {
          "base_uri": "https://localhost:8080/"
        },
        "id": "OcP4BdJi8l25",
        "outputId": "02136c7a-85fd-41a3-f786-d67be9c86382"
      },
      "execution_count": 3,
      "outputs": [
        {
          "output_type": "execute_result",
          "data": {
            "text/plain": [
              "90982"
            ]
          },
          "metadata": {},
          "execution_count": 3
        }
      ]
    },
    {
      "cell_type": "code",
      "source": [
        "df.shape"
      ],
      "metadata": {
        "colab": {
          "base_uri": "https://localhost:8080/"
        },
        "id": "HfS5IgYB8lfn",
        "outputId": "cc5eaa8e-4174-4079-958e-8944df2d0f63"
      },
      "execution_count": 4,
      "outputs": [
        {
          "output_type": "execute_result",
          "data": {
            "text/plain": [
              "(90982, 1)"
            ]
          },
          "metadata": {},
          "execution_count": 4
        }
      ]
    },
    {
      "cell_type": "code",
      "source": [
        "df.head()"
      ],
      "metadata": {
        "colab": {
          "base_uri": "https://localhost:8080/",
          "height": 206
        },
        "id": "zzrhmifq8ptO",
        "outputId": "55fa7c13-cf26-44ee-e29d-eff1eaf99166"
      },
      "execution_count": 5,
      "outputs": [
        {
          "output_type": "execute_result",
          "data": {
            "text/plain": [
              "                   time(s);V_m;Current (A);Cycle;Cap\n",
              "0;4 098;0 997;1;2                        840816667.0\n",
              "1;4 096;0 998;1;2                        840816667.0\n",
              "2;4 094;0 999;1;2                        840816667.0\n",
              "3;4 093;0 998;1;2                        840816667.0\n",
              "4;4 092;0 999;1;2                        840816667.0"
            ],
            "text/html": [
              "\n",
              "  <div id=\"df-40250d16-6426-4d33-a546-a48ae33f2b58\">\n",
              "    <div class=\"colab-df-container\">\n",
              "      <div>\n",
              "<style scoped>\n",
              "    .dataframe tbody tr th:only-of-type {\n",
              "        vertical-align: middle;\n",
              "    }\n",
              "\n",
              "    .dataframe tbody tr th {\n",
              "        vertical-align: top;\n",
              "    }\n",
              "\n",
              "    .dataframe thead th {\n",
              "        text-align: right;\n",
              "    }\n",
              "</style>\n",
              "<table border=\"1\" class=\"dataframe\">\n",
              "  <thead>\n",
              "    <tr style=\"text-align: right;\">\n",
              "      <th></th>\n",
              "      <th></th>\n",
              "      <th></th>\n",
              "      <th>time(s);V_m;Current (A);Cycle;Cap</th>\n",
              "    </tr>\n",
              "  </thead>\n",
              "  <tbody>\n",
              "    <tr>\n",
              "      <th>0;4</th>\n",
              "      <th>098;0</th>\n",
              "      <th>997;1;2</th>\n",
              "      <td>840816667.0</td>\n",
              "    </tr>\n",
              "    <tr>\n",
              "      <th>1;4</th>\n",
              "      <th>096;0</th>\n",
              "      <th>998;1;2</th>\n",
              "      <td>840816667.0</td>\n",
              "    </tr>\n",
              "    <tr>\n",
              "      <th>2;4</th>\n",
              "      <th>094;0</th>\n",
              "      <th>999;1;2</th>\n",
              "      <td>840816667.0</td>\n",
              "    </tr>\n",
              "    <tr>\n",
              "      <th>3;4</th>\n",
              "      <th>093;0</th>\n",
              "      <th>998;1;2</th>\n",
              "      <td>840816667.0</td>\n",
              "    </tr>\n",
              "    <tr>\n",
              "      <th>4;4</th>\n",
              "      <th>092;0</th>\n",
              "      <th>999;1;2</th>\n",
              "      <td>840816667.0</td>\n",
              "    </tr>\n",
              "  </tbody>\n",
              "</table>\n",
              "</div>\n",
              "      <button class=\"colab-df-convert\" onclick=\"convertToInteractive('df-40250d16-6426-4d33-a546-a48ae33f2b58')\"\n",
              "              title=\"Convert this dataframe to an interactive table.\"\n",
              "              style=\"display:none;\">\n",
              "        \n",
              "  <svg xmlns=\"http://www.w3.org/2000/svg\" height=\"24px\"viewBox=\"0 0 24 24\"\n",
              "       width=\"24px\">\n",
              "    <path d=\"M0 0h24v24H0V0z\" fill=\"none\"/>\n",
              "    <path d=\"M18.56 5.44l.94 2.06.94-2.06 2.06-.94-2.06-.94-.94-2.06-.94 2.06-2.06.94zm-11 1L8.5 8.5l.94-2.06 2.06-.94-2.06-.94L8.5 2.5l-.94 2.06-2.06.94zm10 10l.94 2.06.94-2.06 2.06-.94-2.06-.94-.94-2.06-.94 2.06-2.06.94z\"/><path d=\"M17.41 7.96l-1.37-1.37c-.4-.4-.92-.59-1.43-.59-.52 0-1.04.2-1.43.59L10.3 9.45l-7.72 7.72c-.78.78-.78 2.05 0 2.83L4 21.41c.39.39.9.59 1.41.59.51 0 1.02-.2 1.41-.59l7.78-7.78 2.81-2.81c.8-.78.8-2.07 0-2.86zM5.41 20L4 18.59l7.72-7.72 1.47 1.35L5.41 20z\"/>\n",
              "  </svg>\n",
              "      </button>\n",
              "      \n",
              "  <style>\n",
              "    .colab-df-container {\n",
              "      display:flex;\n",
              "      flex-wrap:wrap;\n",
              "      gap: 12px;\n",
              "    }\n",
              "\n",
              "    .colab-df-convert {\n",
              "      background-color: #E8F0FE;\n",
              "      border: none;\n",
              "      border-radius: 50%;\n",
              "      cursor: pointer;\n",
              "      display: none;\n",
              "      fill: #1967D2;\n",
              "      height: 32px;\n",
              "      padding: 0 0 0 0;\n",
              "      width: 32px;\n",
              "    }\n",
              "\n",
              "    .colab-df-convert:hover {\n",
              "      background-color: #E2EBFA;\n",
              "      box-shadow: 0px 1px 2px rgba(60, 64, 67, 0.3), 0px 1px 3px 1px rgba(60, 64, 67, 0.15);\n",
              "      fill: #174EA6;\n",
              "    }\n",
              "\n",
              "    [theme=dark] .colab-df-convert {\n",
              "      background-color: #3B4455;\n",
              "      fill: #D2E3FC;\n",
              "    }\n",
              "\n",
              "    [theme=dark] .colab-df-convert:hover {\n",
              "      background-color: #434B5C;\n",
              "      box-shadow: 0px 1px 3px 1px rgba(0, 0, 0, 0.15);\n",
              "      filter: drop-shadow(0px 1px 2px rgba(0, 0, 0, 0.3));\n",
              "      fill: #FFFFFF;\n",
              "    }\n",
              "  </style>\n",
              "\n",
              "      <script>\n",
              "        const buttonEl =\n",
              "          document.querySelector('#df-40250d16-6426-4d33-a546-a48ae33f2b58 button.colab-df-convert');\n",
              "        buttonEl.style.display =\n",
              "          google.colab.kernel.accessAllowed ? 'block' : 'none';\n",
              "\n",
              "        async function convertToInteractive(key) {\n",
              "          const element = document.querySelector('#df-40250d16-6426-4d33-a546-a48ae33f2b58');\n",
              "          const dataTable =\n",
              "            await google.colab.kernel.invokeFunction('convertToInteractive',\n",
              "                                                     [key], {});\n",
              "          if (!dataTable) return;\n",
              "\n",
              "          const docLinkHtml = 'Like what you see? Visit the ' +\n",
              "            '<a target=\"_blank\" href=https://colab.research.google.com/notebooks/data_table.ipynb>data table notebook</a>'\n",
              "            + ' to learn more about interactive tables.';\n",
              "          element.innerHTML = '';\n",
              "          dataTable['output_type'] = 'display_data';\n",
              "          await google.colab.output.renderOutput(dataTable, element);\n",
              "          const docLink = document.createElement('div');\n",
              "          docLink.innerHTML = docLinkHtml;\n",
              "          element.appendChild(docLink);\n",
              "        }\n",
              "      </script>\n",
              "    </div>\n",
              "  </div>\n",
              "  "
            ]
          },
          "metadata": {},
          "execution_count": 5
        }
      ]
    },
    {
      "cell_type": "code",
      "source": [
        "df.tail()"
      ],
      "metadata": {
        "colab": {
          "base_uri": "https://localhost:8080/",
          "height": 206
        },
        "id": "L3a2pVww8pjm",
        "outputId": "402a7095-5c8c-4247-f081-e7dbc6540a3f"
      },
      "execution_count": 6,
      "outputs": [
        {
          "output_type": "execute_result",
          "data": {
            "text/plain": [
              "                       time(s);V_m;Current (A);Cycle;Cap\n",
              "90977;2 506;1 002;9;2                            77018.0\n",
              "90978;2 504;1 002;9;2                            77018.0\n",
              "90979;2 502;1 002;9;2                            77018.0\n",
              "90980;2 5;1   002;9;2                            77018.0\n",
              "90981;2 497;1 002;9;2                            77018.0"
            ],
            "text/html": [
              "\n",
              "  <div id=\"df-7ee5e1f6-636e-4d68-a59b-c1e54c62d00d\">\n",
              "    <div class=\"colab-df-container\">\n",
              "      <div>\n",
              "<style scoped>\n",
              "    .dataframe tbody tr th:only-of-type {\n",
              "        vertical-align: middle;\n",
              "    }\n",
              "\n",
              "    .dataframe tbody tr th {\n",
              "        vertical-align: top;\n",
              "    }\n",
              "\n",
              "    .dataframe thead th {\n",
              "        text-align: right;\n",
              "    }\n",
              "</style>\n",
              "<table border=\"1\" class=\"dataframe\">\n",
              "  <thead>\n",
              "    <tr style=\"text-align: right;\">\n",
              "      <th></th>\n",
              "      <th></th>\n",
              "      <th></th>\n",
              "      <th>time(s);V_m;Current (A);Cycle;Cap</th>\n",
              "    </tr>\n",
              "  </thead>\n",
              "  <tbody>\n",
              "    <tr>\n",
              "      <th>90977;2</th>\n",
              "      <th>506;1</th>\n",
              "      <th>002;9;2</th>\n",
              "      <td>77018.0</td>\n",
              "    </tr>\n",
              "    <tr>\n",
              "      <th>90978;2</th>\n",
              "      <th>504;1</th>\n",
              "      <th>002;9;2</th>\n",
              "      <td>77018.0</td>\n",
              "    </tr>\n",
              "    <tr>\n",
              "      <th>90979;2</th>\n",
              "      <th>502;1</th>\n",
              "      <th>002;9;2</th>\n",
              "      <td>77018.0</td>\n",
              "    </tr>\n",
              "    <tr>\n",
              "      <th>90980;2</th>\n",
              "      <th>5;1</th>\n",
              "      <th>002;9;2</th>\n",
              "      <td>77018.0</td>\n",
              "    </tr>\n",
              "    <tr>\n",
              "      <th>90981;2</th>\n",
              "      <th>497;1</th>\n",
              "      <th>002;9;2</th>\n",
              "      <td>77018.0</td>\n",
              "    </tr>\n",
              "  </tbody>\n",
              "</table>\n",
              "</div>\n",
              "      <button class=\"colab-df-convert\" onclick=\"convertToInteractive('df-7ee5e1f6-636e-4d68-a59b-c1e54c62d00d')\"\n",
              "              title=\"Convert this dataframe to an interactive table.\"\n",
              "              style=\"display:none;\">\n",
              "        \n",
              "  <svg xmlns=\"http://www.w3.org/2000/svg\" height=\"24px\"viewBox=\"0 0 24 24\"\n",
              "       width=\"24px\">\n",
              "    <path d=\"M0 0h24v24H0V0z\" fill=\"none\"/>\n",
              "    <path d=\"M18.56 5.44l.94 2.06.94-2.06 2.06-.94-2.06-.94-.94-2.06-.94 2.06-2.06.94zm-11 1L8.5 8.5l.94-2.06 2.06-.94-2.06-.94L8.5 2.5l-.94 2.06-2.06.94zm10 10l.94 2.06.94-2.06 2.06-.94-2.06-.94-.94-2.06-.94 2.06-2.06.94z\"/><path d=\"M17.41 7.96l-1.37-1.37c-.4-.4-.92-.59-1.43-.59-.52 0-1.04.2-1.43.59L10.3 9.45l-7.72 7.72c-.78.78-.78 2.05 0 2.83L4 21.41c.39.39.9.59 1.41.59.51 0 1.02-.2 1.41-.59l7.78-7.78 2.81-2.81c.8-.78.8-2.07 0-2.86zM5.41 20L4 18.59l7.72-7.72 1.47 1.35L5.41 20z\"/>\n",
              "  </svg>\n",
              "      </button>\n",
              "      \n",
              "  <style>\n",
              "    .colab-df-container {\n",
              "      display:flex;\n",
              "      flex-wrap:wrap;\n",
              "      gap: 12px;\n",
              "    }\n",
              "\n",
              "    .colab-df-convert {\n",
              "      background-color: #E8F0FE;\n",
              "      border: none;\n",
              "      border-radius: 50%;\n",
              "      cursor: pointer;\n",
              "      display: none;\n",
              "      fill: #1967D2;\n",
              "      height: 32px;\n",
              "      padding: 0 0 0 0;\n",
              "      width: 32px;\n",
              "    }\n",
              "\n",
              "    .colab-df-convert:hover {\n",
              "      background-color: #E2EBFA;\n",
              "      box-shadow: 0px 1px 2px rgba(60, 64, 67, 0.3), 0px 1px 3px 1px rgba(60, 64, 67, 0.15);\n",
              "      fill: #174EA6;\n",
              "    }\n",
              "\n",
              "    [theme=dark] .colab-df-convert {\n",
              "      background-color: #3B4455;\n",
              "      fill: #D2E3FC;\n",
              "    }\n",
              "\n",
              "    [theme=dark] .colab-df-convert:hover {\n",
              "      background-color: #434B5C;\n",
              "      box-shadow: 0px 1px 3px 1px rgba(0, 0, 0, 0.15);\n",
              "      filter: drop-shadow(0px 1px 2px rgba(0, 0, 0, 0.3));\n",
              "      fill: #FFFFFF;\n",
              "    }\n",
              "  </style>\n",
              "\n",
              "      <script>\n",
              "        const buttonEl =\n",
              "          document.querySelector('#df-7ee5e1f6-636e-4d68-a59b-c1e54c62d00d button.colab-df-convert');\n",
              "        buttonEl.style.display =\n",
              "          google.colab.kernel.accessAllowed ? 'block' : 'none';\n",
              "\n",
              "        async function convertToInteractive(key) {\n",
              "          const element = document.querySelector('#df-7ee5e1f6-636e-4d68-a59b-c1e54c62d00d');\n",
              "          const dataTable =\n",
              "            await google.colab.kernel.invokeFunction('convertToInteractive',\n",
              "                                                     [key], {});\n",
              "          if (!dataTable) return;\n",
              "\n",
              "          const docLinkHtml = 'Like what you see? Visit the ' +\n",
              "            '<a target=\"_blank\" href=https://colab.research.google.com/notebooks/data_table.ipynb>data table notebook</a>'\n",
              "            + ' to learn more about interactive tables.';\n",
              "          element.innerHTML = '';\n",
              "          dataTable['output_type'] = 'display_data';\n",
              "          await google.colab.output.renderOutput(dataTable, element);\n",
              "          const docLink = document.createElement('div');\n",
              "          docLink.innerHTML = docLinkHtml;\n",
              "          element.appendChild(docLink);\n",
              "        }\n",
              "      </script>\n",
              "    </div>\n",
              "  </div>\n",
              "  "
            ]
          },
          "metadata": {},
          "execution_count": 6
        }
      ]
    },
    {
      "cell_type": "markdown",
      "source": [
        "# Answer"
      ],
      "metadata": {
        "id": "f4Xfo06j8use"
      }
    },
    {
      "cell_type": "markdown",
      "source": [
        "### 1.a"
      ],
      "metadata": {
        "id": "cEf7u94W80pn"
      }
    },
    {
      "cell_type": "markdown",
      "source": [
        "### Hasil"
      ],
      "metadata": {
        "id": "O6nhYWdgF5st"
      }
    },
    {
      "cell_type": "markdown",
      "source": [
        "Fungsi Perhitungan Hambatan"
      ],
      "metadata": {
        "id": "8bBiVc3c80YB"
      }
    },
    {
      "cell_type": "code",
      "source": [
        "V = float(input(\"Masukkan nilai volt= \"))\n",
        "I = float(input(\"Masukkan nilai ampere = \"))\n",
        "R = V/I\n",
        "print(\"Nilai hambatan =\", R)"
      ],
      "metadata": {
        "colab": {
          "base_uri": "https://localhost:8080/"
        },
        "id": "dniGnWSD8v4e",
        "outputId": "7087cb8a-d2b7-4ed7-f16b-e6231fc3a1a2"
      },
      "execution_count": 7,
      "outputs": [
        {
          "output_type": "stream",
          "name": "stdout",
          "text": [
            "Masukkan nilai volt= 5.5\n",
            "Masukkan nilai ampere = 4.3\n",
            "Nilai hambatan = 1.2790697674418605\n"
          ]
        }
      ]
    },
    {
      "cell_type": "markdown",
      "source": [
        "Fungsi Perhitungan Daya"
      ],
      "metadata": {
        "id": "wnDHRaAm9EdG"
      }
    },
    {
      "cell_type": "code",
      "source": [
        "V = float(input(\"Masukkan nilai volt= \"))\n",
        "I = float(input(\"Masukkan nilai ampere = \"))\n",
        "P = V*I\n",
        "print(\"Nilai daya =\", R)"
      ],
      "metadata": {
        "colab": {
          "base_uri": "https://localhost:8080/"
        },
        "id": "D53adJjt9G8B",
        "outputId": "bd2f892b-2d75-403b-c298-ac9dd120c779"
      },
      "execution_count": 8,
      "outputs": [
        {
          "output_type": "stream",
          "name": "stdout",
          "text": [
            "Masukkan nilai volt= 5.12\n",
            "Masukkan nilai ampere = 2.33\n",
            "Nilai daya = 1.2790697674418605\n"
          ]
        }
      ]
    },
    {
      "cell_type": "markdown",
      "source": [
        "## 1.b"
      ],
      "metadata": {
        "id": "kL-QOXiY9bkm"
      }
    },
    {
      "cell_type": "markdown",
      "source": [
        "## Hasil"
      ],
      "metadata": {
        "id": "RNw1anAzGF8e"
      }
    },
    {
      "cell_type": "code",
      "source": [
        "R_P = 2.77\n",
        "if R_P >= 2.5:\n",
        "  print(f'{R_P} merupakan nilai daya')\n",
        "elif R_P < 2.5:\n",
        "  print(f'{R_P} merupakan nilai hambatan')"
      ],
      "metadata": {
        "colab": {
          "base_uri": "https://localhost:8080/"
        },
        "id": "C2mRmZu59dru",
        "outputId": "5bd74474-4eb2-4a95-e271-0044d502215f"
      },
      "execution_count": 16,
      "outputs": [
        {
          "output_type": "stream",
          "name": "stdout",
          "text": [
            "2.77 merupakan nilai daya\n"
          ]
        }
      ]
    },
    {
      "cell_type": "code",
      "source": [
        "listperhitungan = ['1','1.5','2','2.5','3','3.5','4','4.5','5']\n",
        "for x in listperhitungan:\n",
        "  if x >= '2.5':\n",
        "    print(f'{x} merupakan nilai daya')\n",
        "  elif x < '2.5':\n",
        "    print(f'{x} merupakan nilai hambatan')\n",
        "    "
      ],
      "metadata": {
        "colab": {
          "base_uri": "https://localhost:8080/"
        },
        "id": "yjGGHnx-CLQP",
        "outputId": "85019adc-a1aa-4e4d-c062-f7196968c582"
      },
      "execution_count": 23,
      "outputs": [
        {
          "output_type": "stream",
          "name": "stdout",
          "text": [
            "1 merupakan nilai hambatan\n",
            "1.5 merupakan nilai hambatan\n",
            "2 merupakan nilai hambatan\n",
            "2.5 merupakan nilai daya\n",
            "3 merupakan nilai daya\n",
            "3.5 merupakan nilai daya\n",
            "4 merupakan nilai daya\n",
            "4.5 merupakan nilai daya\n",
            "5 merupakan nilai daya\n"
          ]
        }
      ]
    },
    {
      "cell_type": "markdown",
      "source": [
        "## 1.c"
      ],
      "metadata": {
        "id": "CiM4Bz0QEuMX"
      }
    },
    {
      "cell_type": "markdown",
      "source": [
        "## Hasil"
      ],
      "metadata": {
        "id": "L6s6SXlvGH_J"
      }
    },
    {
      "cell_type": "code",
      "source": [],
      "metadata": {
        "id": "GnaUKMAYExDO"
      },
      "execution_count": null,
      "outputs": []
    }
  ]
}